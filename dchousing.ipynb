{
 "cells": [
  {
   "cell_type": "code",
   "execution_count": 1,
   "metadata": {},
   "outputs": [],
   "source": [
    "import googlemaps\n",
    "import geojsoncontour\n",
    "import numpy as np\n",
    "import pandas as pd\n",
    "import random\n",
    "import shapefile\n",
    "import shapely\n",
    "\n",
    "from datetime import datetime, timedelta\n",
    "from scipy import interpolate\n",
    "import scipy as sp\n",
    "import scipy.ndimage\n",
    "from shapely import geometry\n",
    "\n",
    "from matplotlib import cm\n",
    "import json\n",
    "import os\n",
    "\n",
    "import folium\n",
    "import folium.plugins"
   ]
  },
  {
   "cell_type": "code",
   "execution_count": 2,
   "metadata": {},
   "outputs": [],
   "source": [
    "conf = json.load(open(\"config.json\"))"
   ]
  },
  {
   "cell_type": "code",
   "execution_count": 4,
   "metadata": {},
   "outputs": [],
   "source": [
    "FORHOME = datetime(2020, 2, 12, *conf[\"forhome\"])\n",
    "FORWORK = datetime(2020, 2, 12, *conf[\"forwork\"])\n",
    "WORKADDY = conf[\"work_address\"]\n",
    "gmaps = googlemaps.Client(key=conf[\"gmap_key\"])\n",
    "\n",
    "dc_shapefile = shapefile.Reader(\"Washington_DC_Boundary.shp\")\n",
    "dc_shape = dc_shapefile.shapes()[0]\n",
    "dc_geometry = geometry.shape(dc_shape)"
   ]
  },
  {
   "cell_type": "code",
   "execution_count": 5,
   "metadata": {},
   "outputs": [],
   "source": [
    "def d_matrix(origins, destinations, leavetime):\n",
    "    m = gmaps.distance_matrix(origins=origins, destinations=destinations,\n",
    "                                      mode='driving', units='imperial', departure_time=leavetime,\n",
    "                                      traffic_model='best_guess')\n",
    "    time.sleep(5)\n",
    "    return m"
   ]
  },
  {
   "cell_type": "code",
   "execution_count": 6,
   "metadata": {},
   "outputs": [],
   "source": [
    "def gen_points(n):\n",
    "    minx, miny, maxx, maxy = dc_shape.bbox\n",
    "    locations = []\n",
    "    while len(locations) < n:\n",
    "        pnt = geometry.Point(random.uniform(minx, maxx), random.uniform(miny, maxy))\n",
    "        if dc_geometry.contains(pnt):\n",
    "            locations.append(pnt)\n",
    "    return locations"
   ]
  },
  {
   "cell_type": "code",
   "execution_count": 7,
   "metadata": {},
   "outputs": [],
   "source": [
    "def divide_chunks(l, n=100): \n",
    "    for i in range(0, len(l), n):  \n",
    "        yield l[i:i + n]\n",
    "        \n",
    "def get_times(drive_times):\n",
    "    times = []\n",
    "    for drive_time in drive_times: \n",
    "        for row in drive_time['rows']:\n",
    "            data = row['elements']\n",
    "            for elem in data:\n",
    "                try:\n",
    "                    times.append(elem['duration_in_traffic']['value']/60)\n",
    "                except:\n",
    "                    pass\n",
    "    return times\n"
   ]
  },
  {
   "cell_type": "code",
   "execution_count": 8,
   "metadata": {},
   "outputs": [],
   "source": [
    "if not os.path.exists(\"times.csv\"):    \n",
    "    locations = gen_points(n=1000)  # use 1000 pts to interpolate a grid\n",
    "    origins_coords_y = [location.y for location in locations]\n",
    "    origins_coords_x = [location.x for location in locations]\n",
    "    origins = list(zip(origins_coords_y, origins_coords_x))\n",
    "    destinations = [WORKADDY]\n",
    "    drive_times = [d_matrix(split_origin, destinations, FORWORK) for split_origin in divide_chunks(origins)]\n",
    "    times = get_times(drive_times)\n",
    "    df = pd.DataFrame({\"y\": origins_coords_y, \"x\": origins_coords_x,\"time\": times})\n",
    "    df.to_csv(\"times.csv\")\n",
    "else:\n",
    "    df = pd.read_csv(\"times.csv\")"
   ]
  },
  {
   "cell_type": "code",
   "execution_count": 10,
   "metadata": {},
   "outputs": [],
   "source": [
    "# contourf = plt.contourf(x_mesh, y_mesh, z_mesh, levels=5, alpha=0.5, colors=['#d7191c',  '#fdae61',  '#ffffbf',  '#abdda4',  '#2b83ba'],\n",
    "#                         linestyles='None', vmin=min(times), vmax=max(times))"
   ]
  },
  {
   "cell_type": "code",
   "execution_count": 11,
   "metadata": {},
   "outputs": [],
   "source": [
    "# geojson = geojsoncontour.contourf_to_geojson(\n",
    "#     contourf=contourf,\n",
    "#     min_angle_deg=3.0,\n",
    "#     ndigits=5,\n",
    "#     stroke_width=1,\n",
    "#     fill_opacity=0.5)"
   ]
  },
  {
   "cell_type": "code",
   "execution_count": 13,
   "metadata": {},
   "outputs": [],
   "source": [
    "n = 100\n",
    "minx, miny, maxx, maxy = dc_shape.bbox\n",
    "def is_dc(x, y):\n",
    "    pnt = geometry.Point(x, y)\n",
    "    return dc_geometry.contains(pnt)\n",
    "\n",
    "bmask = [[is_dc(x, y) \n",
    "             for x in np.linspace(minx, maxx, n)]             \n",
    "             for y in np.linspace(miny, maxy, n)] \n",
    "mask = np.array(bmask, dtype=float)"
   ]
  },
  {
   "cell_type": "code",
   "execution_count": 20,
   "metadata": {},
   "outputs": [
    {
     "name": "stderr",
     "output_type": "stream",
     "text": [
      "/Users/pbutler/.virtualenvs/dchousing/lib/python3.7/site-packages/ipykernel_launcher.py:23: RuntimeWarning: divide by zero encountered in true_divide\n",
      "/Users/pbutler/.virtualenvs/dchousing/lib/python3.7/site-packages/ipykernel_launcher.py:23: RuntimeWarning: invalid value encountered in true_divide\n"
     ]
    },
    {
     "data": {
      "text/html": [
       "<div style=\"width:100%;\"><div style=\"position:relative;width:100%;height:0;padding-bottom:60%;\"><iframe src=\"data:text/html;charset=utf-8;base64,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\" style=\"position:absolute;width:100%;height:100%;left:0;top:0;border:none !important;\" allowfullscreen webkitallowfullscreen mozallowfullscreen></iframe></div></div>"
      ],
      "text/plain": [
       "<folium.folium.Map at 0x12ed72e90>"
      ]
     },
     "execution_count": 20,
     "metadata": {},
     "output_type": "execute_result"
    }
   ],
   "source": [
    "def gen_ipoints(df, n):\n",
    "    \"\"\"generate interpolated points from a set of given points\"\"\"\n",
    "    minx, miny, maxx, maxy = dc_shape.bbox\n",
    "    x, y = np.linspace(minx, maxx, n), np.linspace(miny, maxy, n)\n",
    "    xx, yy = np.meshgrid(x, y)\n",
    "    \n",
    "    points = df[[\"x\",\"y\"]].values\n",
    "    return sp.interpolate.griddata(points, df[\"time\"], (xx, yy), method=\"cubic\")\n",
    "\n",
    "\n",
    "img = gen_ipoints(df, 100)\n",
    "\n",
    "img = np.minimum(img, df[\"time\"].max())\n",
    "\n",
    "img = np.maximum(img, df[\"time\"].min())\n",
    "\n",
    "\n",
    "img = img - np.nanmin(img)\n",
    "\n",
    "#img = np.log(img)\n",
    "img = img / np.nanmax(img)\n",
    "# mask values we want off are zero, dividing by zero results in inf and we can adjust a colormap with that\n",
    "img = img / mask  \n",
    "\n",
    "#img = np.nan_to_num(img, 0)\n",
    "img = img[::-1, :]\n",
    "\n",
    "\n",
    "def cmap(x):\n",
    "    mp = cm.get_cmap(\"jet\")\n",
    "    if np.isnan(x) or np.isinf(x):\n",
    "        return (0, 0, 0, 0)\n",
    "    else:\n",
    "        return mp(x)\n",
    "\n",
    "m = folium.Map(location=[38.9072,-77.0369], tiles='Stamen Toner', zoom_start=12)\n",
    "minx, miny, maxx, maxy = dc_shape.bbox\n",
    "folium.raster_layers.ImageOverlay(\n",
    "    img, \n",
    "    bounds=[[miny, minx], [maxy, maxx]], \n",
    "    opacity=.75,\n",
    "    colormap=cmap).add_to(m)\n",
    "#m.save(\"commute.html\")\n",
    "m"
   ]
  }
 ],
 "metadata": {
  "kernelspec": {
   "display_name": "Python 3",
   "language": "python",
   "name": "python3"
  },
  "language_info": {
   "codemirror_mode": {
    "name": "ipython",
    "version": 3
   },
   "file_extension": ".py",
   "mimetype": "text/x-python",
   "name": "python",
   "nbconvert_exporter": "python",
   "pygments_lexer": "ipython3",
   "version": "3.7.6"
  }
 },
 "nbformat": 4,
 "nbformat_minor": 4
}
